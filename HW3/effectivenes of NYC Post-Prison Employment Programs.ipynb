{
 "cells": [
  {
   "cell_type": "markdown",
   "metadata": {},
   "source": [
    "#August 2015 \n",
    "#Author: FBB\n",
    "\n",
    "#reproduce the result in http://www.mdrc.org/sites/default/files/What%20Strategies%20Work%20for%20the%20Hard%20FR.pdf \n"
   ]
  },
  {
   "cell_type": "code",
   "execution_count": 6,
   "metadata": {
    "collapsed": false
   },
   "outputs": [
    {
     "name": "stdout",
     "output_type": "stream",
     "text": [
      "Populating the interactive namespace from numpy and matplotlib\n"
     ]
    }
   ],
   "source": [
    "import os\n",
    "import sys\n",
    "import numpy as np\n",
    "import pylab as pl\n",
    "\n",
    "\n",
    "import json\n",
    "import os\n",
    "#s = json.load( open(os.getenv(\"PUI2015\")+\"/fbb_matplotlibrc.json\") )\n",
    "#pl.rcParams.update(s)\n",
    "\n",
    "%pylab inline\n",
    "\n",
    "#from IPython.display import Image\n",
    "#Image(filename='../plotsforclasses/NYCReentryprogram_title.png')\n",
    "\n"
   ]
  },
  {
   "cell_type": "markdown",
   "metadata": {},
   "source": [
    "#NULL HYPOTHESIS: the % of former prisoners employed after release is the same or lower for candidates who participated in the program as for the control group, significance level p=0.05"
   ]
  },
  {
   "cell_type": "markdown",
   "metadata": {},
   "source": [
    "#$H_0: P_0 - P_1 \\geq$    0\n",
    "    \n",
    "#$H_a: P_0 - P_1 $< 0    \n",
    "    \n",
    "    \n",
    "#$\\alpha$ = 0.05    \n",
    "\n",
    "##this is a TEST OF PROPORTIONS. we use the Binomial distribution since it is a yes/no (bernulli) test for each subject: the former inmate was or was not ever employed in a CEO transitional job (second row in the table above):\n",
    "#$P_0=0.035, P_1=0.701$"
   ]
  },
  {
   "cell_type": "code",
   "execution_count": 7,
   "metadata": {
    "collapsed": false
   },
   "outputs": [],
   "source": [
    "\n",
    "alpha=0.05\n",
    "#we like fractions better then percentages. as a rule of thumb, either use fractions or counts\n",
    "P_0=3.5*0.01 \n",
    "P_1=70.1*0.01\n",
    "\n",
    "n_0=409\n",
    "n_1=564\n",
    "\n",
    "#lets get the counts by multiplying by the sample size\n",
    "Nt_0=P_0*n_0\n",
    "Nt_1=P_1*n_1\n"
   ]
  },
  {
   "cell_type": "markdown",
   "metadata": {},
   "source": [
    "#2 samples, categorical data\n",
    "#TWO OPTIONS z test, or chi square test.  "
   ]
  },
  {
   "cell_type": "markdown",
   "metadata": {},
   "source": [
    "#START WITH Z TEST\n",
    "\n",
    "##the z test compares the stanrard deviation of the expected distribution and the observed result. it tells you literally how many standard deviations from the tail an observation is, under the _assumption of normality\n",
    "must define the sample standard deviation "
   ]
  },
  {
   "cell_type": "code",
   "execution_count": 8,
   "metadata": {
    "collapsed": false
   },
   "outputs": [
    {
     "name": "stdout",
     "output_type": "stream",
     "text": [
      "0.421047276465\n"
     ]
    }
   ],
   "source": [
    "#define the sample proportion first\n",
    "sp=(P_0*n_0+P_1*n_1)/(n_1+n_0)\n",
    "print sp"
   ]
  },
  {
   "cell_type": "markdown",
   "metadata": {},
   "source": [
    "#standard deviation of the sampling distribution the distribution is Binomial, the binomail stdev is \n",
    "\n",
    "(see a proof here!: http://stats.stackexchange.com/questions/29641/standard-error-for-the-mean-of-a-sample-of-binomial-random-variables!): \n",
    "\n",
    "$\\sqrt{\\frac{p(1 - p)}{n}}$\n",
    "\n",
    "for 2 samples this becomes \n",
    "\n",
    "$\\sqrt{ \\frac{ \\hat{p}(1 - \\hat{p})} {n1} + \\frac{ \\hat{p}(1 - \\hat{p})} {n1} }$\n",
    "\n",
    "cfr: page 138 of Statistics in a Nutshell, eq. 5.12 and here http://stattrek.com/hypothesis-test/difference-in-proportions.aspx?Tutorial=AP\n",
    "\n"
   ]
  },
  {
   "cell_type": "markdown",
   "metadata": {},
   "source": [
    "Note that in the Image above, taken from the online version of the book, $\\bar{x}$ should be $\\hat{p}$!!"
   ]
  },
  {
   "cell_type": "code",
   "execution_count": 9,
   "metadata": {
    "collapsed": false
   },
   "outputs": [
    {
     "name": "stdout",
     "output_type": "stream",
     "text": [
      "0.035 409 564 0.0320658086057\n"
     ]
    }
   ],
   "source": [
    "# i am goonna create a little one line function to calculate the standard dev, it is not really needed, but just to show you how you do such a thing\n",
    "sp_stdev= lambda p, n: np.sqrt( p * ( 1 - p ) /n[0] +  p * ( 1 - p )/n[1]  )\n",
    "\n",
    "\n",
    "sp_stdev_2y=sp_stdev((Nt_0+Nt_1)/(n_0+n_1),[n_0,n_1])\n",
    "print P_0, n_0, n_1, sp_stdev_2y"
   ]
  },
  {
   "cell_type": "markdown",
   "metadata": {},
   "source": [
    "#z score: how many standard deviation away from the population parameter is my statistic?\n",
    "\n",
    "#$z=\\frac{P_1-P_0}{\\sigma}$"
   ]
  },
  {
   "cell_type": "code",
   "execution_count": 10,
   "metadata": {
    "collapsed": false
   },
   "outputs": [
    {
     "name": "stdout",
     "output_type": "stream",
     "text": [
      "20.7697865408\n"
     ]
    }
   ],
   "source": [
    "zscore = lambda p0, p1, s : (p0-p1)/s\n",
    "z_2y = zscore(P_1, P_0, sp_stdev_2y)\n",
    "print z_2y\n"
   ]
  },
  {
   "cell_type": "markdown",
   "metadata": {},
   "source": [
    "note that using p0-p1 or p1-p0 at the numerator is equivalent because the standardizes normal value of z has mean 0 (see image below) so that we can use the absolute value of the z score, or equivalently look for P[Z,z] if z is positive, and P[Z>z] if z is negative."
   ]
  },
  {
   "cell_type": "code",
   "execution_count": 1,
   "metadata": {
    "collapsed": false
   },
   "outputs": [
    {
     "ename": "NameError",
     "evalue": "name 'Image' is not defined",
     "output_type": "error",
     "traceback": [
      "\u001b[0;31m---------------------------------------------------------------------------\u001b[0m",
      "\u001b[0;31mNameError\u001b[0m                                 Traceback (most recent call last)",
      "\u001b[0;32m<ipython-input-1-c1b9ffe94f4f>\u001b[0m in \u001b[0;36m<module>\u001b[0;34m()\u001b[0m\n\u001b[0;32m----> 1\u001b[0;31m \u001b[0mImage\u001b[0m\u001b[0;34m(\u001b[0m\u001b[0;34m'http://intersci.ss.uci.edu/wiki/images/3/3a/Normal01.jpg'\u001b[0m\u001b[0;34m)\u001b[0m\u001b[0;34m\u001b[0m\u001b[0m\n\u001b[0m",
      "\u001b[0;31mNameError\u001b[0m: name 'Image' is not defined"
     ]
    }
   ],
   "source": [
    "Image('http://intersci.ss.uci.edu/wiki/images/3/3a/Normal01.jpg')"
   ]
  },
  {
   "cell_type": "markdown",
   "metadata": {},
   "source": [
    "##if $p<\\alpha$ : reject H0\n",
    "\n",
    "##IMPORTANT!! note that this P is not the p-value, but \n",
    "##p-value=1-P"
   ]
  },
  {
   "cell_type": "code",
   "execution_count": 11,
   "metadata": {
    "collapsed": false
   },
   "outputs": [
    {
     "name": "stdout",
     "output_type": "stream",
     "text": [
      "is the p value 0.00 smaller than the critical value 0.05? \n",
      "YES!\n",
      "the Null hypothesis is rejected\n"
     ]
    }
   ],
   "source": [
    "##p-value for employment after 2 years: since the largest number we read off the table for alpha=0.05 is smaller then the value for our statistic our p-value will be smaller then calculated using .9998\n",
    "##thus using 0.9998 is a **conservative** approach. \n",
    "\n",
    "p_2y=1-0.9998\n",
    "\n",
    "\n",
    "def report_result(p,a):\n",
    "    print 'is the p value {0:.2f} smaller than the critical value {1:.2f}? '.format(p,a)\n",
    "    if p<a:\n",
    "        print \"YES!\"\n",
    "    else: print \"NO!\"\n",
    "    \n",
    "    print 'the Null hypothesis is {}'.format( 'rejected' if p<a  else 'not rejected') \n",
    "\n",
    "    \n",
    "report_result(p_2y,alpha)"
   ]
  },
  {
   "cell_type": "markdown",
   "metadata": {},
   "source": [
    "#!!!!!!!!TODO FOR YOU\n"
   ]
  },
  {
   "cell_type": "markdown",
   "metadata": {},
   "source": [
    "##what if we used the values for where the former inmate was or was not ever employed in a CEO transitional job 3 years after release (4th row of the table)? \n",
    "\n",
    "#$P_0 = ??, P_1= ??$"
   ]
  },
  {
   "cell_type": "markdown",
   "metadata": {},
   "source": [
    "#look up data table and insert the appropriate values to get the appropriate result!"
   ]
  },
  {
   "cell_type": "code",
   "execution_count": 12,
   "metadata": {
    "collapsed": false
   },
   "outputs": [
    {
     "name": "stdout",
     "output_type": "stream",
     "text": [
      "-21.0161501616\n"
     ]
    }
   ],
   "source": [
    "P_0=0.035\n",
    "P_1=0.71\n",
    "\n",
    "p = (P_0*409+P_1*564)/(409+564)\n",
    "\n",
    "sp_stdev_3y= np.sqrt( p * ( 1 - p ) /409 +  p * ( 1 - p )/564  )\n",
    "\n",
    "z_3y = (P_0 - P_1)/sp_stdev_3y\n",
    "print(z_3y)"
   ]
  },
  {
   "cell_type": "code",
   "execution_count": 13,
   "metadata": {
    "collapsed": false
   },
   "outputs": [
    {
     "name": "stdout",
     "output_type": "stream",
     "text": [
      "is the p value 0.00 smaller than the critical value 0.05? \n",
      "YES!\n",
      "the Null hypothesis is rejected\n"
     ]
    }
   ],
   "source": [
    "p_3y=1-.9998\n",
    "\n",
    "report_result(p_3y,0.05)"
   ]
  },
  {
   "cell_type": "markdown",
   "metadata": {},
   "source": [
    "#Now lets do it with the $\\chi^2$ test"
   ]
  },
  {
   "cell_type": "markdown",
   "metadata": {},
   "source": [
    "#this can also be done with the $\\chi^2$ distribution, see \"Statistics In a Nutshell Chapter 4\", or http://math.hws.edu/javamath/ryan/ChiSquare.html (if you are really just interested in the formula at face value)"
   ]
  },
  {
   "cell_type": "markdown",
   "metadata": {},
   "source": [
    "##the chisq statistics tests a number against the distribution of the following quantity:\n",
    "\n",
    "$$\\chi^2 = \\Sigma \\frac{(observation - expectation)^2}{expectation}$$\n",
    "\n",
    "\n",
    "if we talk about sample fractions  that is \n",
    "\n",
    "$$\\chi^2 = \\Sigma \\frac{(f_{observed} - f_{expectated})^2}{f_{expected}}$$\n",
    "\n",
    "##turns out this quantity is distributed according to a chi square distribution, so if i get the $\\chi^2$ statistics i can compare it to the full chisq distribution and see how far in the tail it is\n",
    "\n",
    "##the trickiest part (not that tricky) is to figure out the table of values. please see Statistics In a Nutshell Chapter 4, for our data for example:"
   ]
  },
  {
   "cell_type": "markdown",
   "metadata": {},
   "source": [
    "|employed in subsadized job |     employed   | not employes   |                   \n",
    "|---------------------------|----------------|------------------|---------------------------|\n",
    "| test sample               | $70.1*5.64$    | $29.9*5.64$      | 564                       |\n",
    "| control sample            | $3.5*4.09$     | $96.5*4.09$      | 409                       |\n",
    "|                           |                |                  |                           |\n",
    "| total                     | 409.679        |  562.912         | 973         |"
   ]
  },
  {
   "cell_type": "markdown",
   "metadata": {},
   "source": [
    "the expected ratio is the product of the total of all rows and all columns, devided by the total"
   ]
  },
  {
   "cell_type": "markdown",
   "metadata": {},
   "source": [
    "expected = $\\frac{row tot * col tot}{total}$"
   ]
  },
  {
   "cell_type": "code",
   "execution_count": 14,
   "metadata": {
    "collapsed": false
   },
   "outputs": [
    {
     "name": "stdout",
     "output_type": "stream",
     "text": [
      "433.44352059\n"
     ]
    }
   ],
   "source": [
    "Ntot = 973\n",
    "expected = 564*409*409.679*562.912\n",
    "sample_values = [[70.1*5.64,29.9*5.64],[3.05*4.09,96.5*4.09]]\n",
    " \n",
    "chisqstat= lambda N, values, expect : N*((values[0][0]*values[1][1]-values[0][1]*values[1][0])**2)/(expect)\n",
    "\n",
    "print chisqstat(Ntot,  sample_values, expected)\n"
   ]
  },
  {
   "cell_type": "markdown",
   "metadata": {},
   "source": [
    "#!!!!!! TODO FOR YOU!\n",
    "#lets see what the chi sq statistics says about the employment for >6 consecutive months (raw 6)"
   ]
  },
  {
   "cell_type": "markdown",
   "metadata": {},
   "source": [
    "|employed in subsadized job |     employed   | not employes   |                   \n",
    "|---------------------------|----------------|------------------|---------------------------|\n",
    "| test sample               | 14.7*5.64    | 85.3*5.64     | 564                       |\n",
    "| control sample            | 11.9*4.09   |  88.1*4.09    | 409                       |\n",
    "|                           |                |                  |                           |\n",
    "| total                     | 131.579       |  841.421         | 973         |"
   ]
  },
  {
   "cell_type": "code",
   "execution_count": 17,
   "metadata": {
    "collapsed": false
   },
   "outputs": [
    {
     "name": "stdout",
     "output_type": "stream",
     "text": [
      "1.58939333193\n"
     ]
    }
   ],
   "source": [
    "Ntot = 973\n",
    "expected = 564*409*131.579*841.421\n",
    "sample_values = [[14.7*5.64,85.3*5.64],[11.9*4.09,88.1*4.09]]\n",
    "\n",
    "\n",
    "chisqstat= lambda N, values, expect : N*((values[0][0]*values[1][1]-values[0][1]*values[1][0])**2)/(expect)\n",
    "print chisqstat(Ntot,  sample_values, expected)"
   ]
  },
  {
   "cell_type": "markdown",
   "metadata": {},
   "source": [
    "432 is hella larger then 3.84\n",
    "\n",
    "why am i mentioning 3.84?\n",
    "\n",
    "how does the 6mo chi square statistic that you derived compare?\n",
    "\n",
    "please  state what that means in terms of your hypothesis in a markdown cell below!"
   ]
  },
  {
   "cell_type": "code",
   "execution_count": 19,
   "metadata": {
    "collapsed": true
   },
   "outputs": [],
   "source": [
    "#We have 1 degree of freedom, and alpha = 0.05.\n",
    "#There is a 0.05 chance of a chi square statistic of 3.84 or greater, under the null hypothesis.\n",
    "#Our new chi square statistic is 1.59, so the chance of a larger statistics, under the null hypothesis, is at least 0.1.\n",
    "#So, at the alpha=0.05 level, we do not reject the null hypothesis."
   ]
  },
  {
   "cell_type": "markdown",
   "metadata": {
    "collapsed": true
   },
   "source": []
  }
 ],
 "metadata": {
  "kernelspec": {
   "display_name": "Python 2",
   "language": "python",
   "name": "python2"
  },
  "language_info": {
   "codemirror_mode": {
    "name": "ipython",
    "version": 2
   },
   "file_extension": ".py",
   "mimetype": "text/x-python",
   "name": "python",
   "nbconvert_exporter": "python",
   "pygments_lexer": "ipython2",
   "version": "2.7.10"
  }
 },
 "nbformat": 4,
 "nbformat_minor": 0
}
