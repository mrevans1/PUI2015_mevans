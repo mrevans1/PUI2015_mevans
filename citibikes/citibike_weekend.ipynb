{
 "cells": [
  {
   "cell_type": "code",
   "execution_count": 34,
   "metadata": {
    "collapsed": false
   },
   "outputs": [],
   "source": [
    "# Import necessary packages\n",
    "# Note, need to run the following in Terminal / Command :  pip install geopy\n",
    "import math\n",
    "import pandas as pd\n",
    "import numpy as np\n",
    "import scipy\n",
    "import datetime as dt\n",
    "import statsmodels.formula.api as smf\n",
    "import matplotlib.pyplot as plt\n",
    "%matplotlib inline "
   ]
  },
  {
   "cell_type": "code",
   "execution_count": 3,
   "metadata": {
    "collapsed": false
   },
   "outputs": [
    {
     "name": "stdout",
     "output_type": "stream",
     "text": [
      "   tripduration          starttime           stoptime  start station id  \\\n",
      "0          2828  9/1/2014 00:00:25  9/1/2014 00:47:33               386   \n",
      "1           368  9/1/2014 00:00:28  9/1/2014 00:06:36               387   \n",
      "2          2201  9/1/2014 00:00:40  9/1/2014 00:37:21               386   \n",
      "3           322  9/1/2014 00:00:41  9/1/2014 00:06:03               167   \n",
      "4          1693  9/1/2014 00:00:59  9/1/2014 00:29:12               223   \n",
      "\n",
      "        start station name  start station latitude  start station longitude  \\\n",
      "0     Centre St & Worth St               40.714948               -74.002345   \n",
      "1  Centre St & Chambers St               40.712733               -74.004607   \n",
      "2     Centre St & Worth St               40.714948               -74.002345   \n",
      "3          E 39 St & 3 Ave               40.748901               -73.976049   \n",
      "4          W 13 St & 7 Ave               40.737815               -73.999947   \n",
      "\n",
      "   end station id               end station name  end station latitude  \\\n",
      "0             450                W 49 St & 8 Ave             40.762272   \n",
      "1            2008          Little West St & 1 Pl             40.705693   \n",
      "2             441                E 52 St & 2 Ave             40.756014   \n",
      "3             528                2 Ave & E 31 St             40.742909   \n",
      "4              83  Atlantic Ave & Fort Greene Pl             40.683826   \n",
      "\n",
      "   end station longitude  bikeid    usertype  birth year  gender  \n",
      "0             -73.987882   15941  Subscriber        1980       1  \n",
      "1             -74.016777   18962  Subscriber        1982       1  \n",
      "2             -73.967416   15982  Subscriber        1968       1  \n",
      "3             -73.977061   19081  Subscriber        1961       1  \n",
      "4             -73.976323   20836  Subscriber        1978       1  \n"
     ]
    }
   ],
   "source": [
    "# Load September 2014 data in Pandas dataframe\n",
    "import requests, zipfile, StringIO\n",
    "r = requests.get('https://s3.amazonaws.com/tripdata/201409-citibike-tripdata.zip')\n",
    "z = zipfile.ZipFile(StringIO.StringIO(r.content))\n",
    "data = pd.read_csv(z.open('201409-citibike-tripdata.csv'))\n",
    "\n",
    "print data.head()"
   ]
  },
  {
   "cell_type": "code",
   "execution_count": 4,
   "metadata": {
    "collapsed": false
   },
   "outputs": [
    {
     "name": "stdout",
     "output_type": "stream",
     "text": [
      "   tripduration          starttime           stoptime  start station id  \\\n",
      "0          2828  9/1/2014 00:00:25  9/1/2014 00:47:33               386   \n",
      "1           368  9/1/2014 00:00:28  9/1/2014 00:06:36               387   \n",
      "2          2201  9/1/2014 00:00:40  9/1/2014 00:37:21               386   \n",
      "3           322  9/1/2014 00:00:41  9/1/2014 00:06:03               167   \n",
      "4          1693  9/1/2014 00:00:59  9/1/2014 00:29:12               223   \n",
      "\n",
      "        start station name  start station latitude  start station longitude  \\\n",
      "0     Centre St & Worth St               40.714948               -74.002345   \n",
      "1  Centre St & Chambers St               40.712733               -74.004607   \n",
      "2     Centre St & Worth St               40.714948               -74.002345   \n",
      "3          E 39 St & 3 Ave               40.748901               -73.976049   \n",
      "4          W 13 St & 7 Ave               40.737815               -73.999947   \n",
      "\n",
      "   end station id               end station name  end station latitude  \\\n",
      "0             450                W 49 St & 8 Ave             40.762272   \n",
      "1            2008          Little West St & 1 Pl             40.705693   \n",
      "2             441                E 52 St & 2 Ave             40.756014   \n",
      "3             528                2 Ave & E 31 St             40.742909   \n",
      "4              83  Atlantic Ave & Fort Greene Pl             40.683826   \n",
      "\n",
      "   end station longitude  bikeid    usertype  birth year  gender  \\\n",
      "0             -73.987882   15941  Subscriber        1980       1   \n",
      "1             -74.016777   18962  Subscriber        1982       1   \n",
      "2             -73.967416   15982  Subscriber        1968       1   \n",
      "3             -73.977061   19081  Subscriber        1961       1   \n",
      "4             -73.976323   20836  Subscriber        1978       1   \n",
      "\n",
      "   weekend_indicator  \n",
      "0                  0  \n",
      "1                  0  \n",
      "2                  0  \n",
      "3                  0  \n",
      "4                  0  \n"
     ]
    }
   ],
   "source": [
    "# Get day of the week (1 = Monday, 2 = Tuesday, etc.) for starttime\n",
    "# Create indicator for weekend (based on starttime) (1 == weekend)\n",
    "\n",
    "temp = pd.DatetimeIndex(data['starttime'])\n",
    "data['weekend_indicator'] = pd.get_dummies(temp.weekday >= 5)[1]\n",
    "\n",
    "print data.head()"
   ]
  },
  {
   "cell_type": "code",
   "execution_count": 9,
   "metadata": {
    "collapsed": false
   },
   "outputs": [
    {
     "name": "stdout",
     "output_type": "stream",
     "text": [
      "   tripduration          starttime           stoptime  start station id  \\\n",
      "0          2828  9/1/2014 00:00:25  9/1/2014 00:47:33               386   \n",
      "1           368  9/1/2014 00:00:28  9/1/2014 00:06:36               387   \n",
      "2          2201  9/1/2014 00:00:40  9/1/2014 00:37:21               386   \n",
      "3           322  9/1/2014 00:00:41  9/1/2014 00:06:03               167   \n",
      "4          1693  9/1/2014 00:00:59  9/1/2014 00:29:12               223   \n",
      "\n",
      "        start station name  start station latitude  start station longitude  \\\n",
      "0     Centre St & Worth St               40.714948               -74.002345   \n",
      "1  Centre St & Chambers St               40.712733               -74.004607   \n",
      "2     Centre St & Worth St               40.714948               -74.002345   \n",
      "3          E 39 St & 3 Ave               40.748901               -73.976049   \n",
      "4          W 13 St & 7 Ave               40.737815               -73.999947   \n",
      "\n",
      "   end station id               end station name  end station latitude  \\\n",
      "0             450                W 49 St & 8 Ave             40.762272   \n",
      "1            2008          Little West St & 1 Pl             40.705693   \n",
      "2             441                E 52 St & 2 Ave             40.756014   \n",
      "3             528                2 Ave & E 31 St             40.742909   \n",
      "4              83  Atlantic Ave & Fort Greene Pl             40.683826   \n",
      "\n",
      "   end station longitude  bikeid    usertype  birth year  gender  \\\n",
      "0             -73.987882   15941  Subscriber        1980       1   \n",
      "1             -74.016777   18962  Subscriber        1982       1   \n",
      "2             -73.967416   15982  Subscriber        1968       1   \n",
      "3             -73.977061   19081  Subscriber        1961       1   \n",
      "4             -73.976323   20836  Subscriber        1978       1   \n",
      "\n",
      "   weekend_indicator  distance        mph  \n",
      "0                  0  4.315018   5.492951  \n",
      "1                  0  1.342705  13.135162  \n",
      "2                  0  5.309845   8.684890  \n",
      "3                  0  0.489000   5.467078  \n",
      "4                  0  5.421058  11.527353  \n"
     ]
    }
   ],
   "source": [
    "#Caluculate Manhattan distance based on change in latitude and longitude\n",
    "\n",
    "def distance(startlat,startlon,endlat,endlon):\n",
    "    changelat=abs((startlat)-(endlat))\n",
    "    changelon = abs((startlon)-(endlon))\n",
    "    distance = (abs(changelat*110.574*.63127) + abs(changelon*111.320*math.cos(40.7451677)*.63127))\n",
    "    return distance\n",
    "\n",
    "data['distance']=distance((data['start station latitude']),(data['start station longitude']),(data['end station latitude']),(data['end station longitude']))\n",
    "data['mph']=data['distance']/(data['tripduration']/3600)\n",
    "\n",
    "# Calculate speed using dist (in miles) / (tripduration (in sec) / 3600 )\n",
    "# This assumes we care about the min. distance travelled (most efficient route which may not exist due to road structure)\n",
    "\n",
    "print data.head()"
   ]
  },
  {
   "cell_type": "code",
   "execution_count": 76,
   "metadata": {
    "collapsed": false
   },
   "outputs": [
    {
     "data": {
      "image/png": "[encoded data removed]",
      "text/plain": [
       "<matplotlib.figure.Figure at 0x10971f090>"
      ]
     },
     "metadata": {},
     "output_type": "display_data"
    }
   ],
   "source": [
    "plt.hist(data['mph'], bins=50)\n",
    "plt.xlabel('Speed (mph)')\n",
    "plt.ylabel('Frequency')\n",
    "plt.title('Histogram of Citi Bike Speed')\n",
    "plt.show()"
   ]
  },
  {
   "cell_type": "code",
   "execution_count": 11,
   "metadata": {
    "collapsed": false
   },
   "outputs": [
    {
     "name": "stdout",
     "output_type": "stream",
     "text": [
      "   tripduration          starttime           stoptime  start_station_id  \\\n",
      "0          2828  9/1/2014 00:00:25  9/1/2014 00:47:33               386   \n",
      "1           368  9/1/2014 00:00:28  9/1/2014 00:06:36               387   \n",
      "2          2201  9/1/2014 00:00:40  9/1/2014 00:37:21               386   \n",
      "3           322  9/1/2014 00:00:41  9/1/2014 00:06:03               167   \n",
      "4          1693  9/1/2014 00:00:59  9/1/2014 00:29:12               223   \n",
      "\n",
      "        start_station_name  start_station_latitude  start_station_longitude  \\\n",
      "0     Centre St & Worth St               40.714948               -74.002345   \n",
      "1  Centre St & Chambers St               40.712733               -74.004607   \n",
      "2     Centre St & Worth St               40.714948               -74.002345   \n",
      "3          E 39 St & 3 Ave               40.748901               -73.976049   \n",
      "4          W 13 St & 7 Ave               40.737815               -73.999947   \n",
      "\n",
      "   end_station_id               end_station_name  end_station_latitude  \\\n",
      "0             450                W 49 St & 8 Ave             40.762272   \n",
      "1            2008          Little West St & 1 Pl             40.705693   \n",
      "2             441                E 52 St & 2 Ave             40.756014   \n",
      "3             528                2 Ave & E 31 St             40.742909   \n",
      "4              83  Atlantic Ave & Fort Greene Pl             40.683826   \n",
      "\n",
      "   end_station_longitude  bikeid    usertype  birth_year  gender  \\\n",
      "0             -73.987882   15941  Subscriber        1980       1   \n",
      "1             -74.016777   18962  Subscriber        1982       1   \n",
      "2             -73.967416   15982  Subscriber        1968       1   \n",
      "3             -73.977061   19081  Subscriber        1961       1   \n",
      "4             -73.976323   20836  Subscriber        1978       1   \n",
      "\n",
      "   weekend_indicator  distance        mph  \n",
      "0                  0  4.315018   5.492951  \n",
      "1                  0  1.342705  13.135162  \n",
      "2                  0  5.309845   8.684890  \n",
      "3                  0  0.489000   5.467078  \n",
      "4                  0  5.421058  11.527353  \n"
     ]
    }
   ],
   "source": [
    "# Replace column header name spaces with underscores\n",
    "cols = data.columns\n",
    "cols = cols.map(lambda x: x.replace(' ', '_') if isinstance(x, (str, unicode)) else x)\n",
    "data.columns = cols\n",
    "\n",
    "print data.head()"
   ]
  },
  {
   "cell_type": "code",
   "execution_count": 81,
   "metadata": {
    "collapsed": false
   },
   "outputs": [
    {
     "name": "stdout",
     "output_type": "stream",
     "text": [
      "Ttest_indResult(statistic=-113.53191071635105, pvalue=0.0)\n"
     ]
    }
   ],
   "source": [
    "#Do a one-sided t-test to compare speeds during weekdays and weekends.\n",
    "results=scipy.stats.ttest_ind(data[data['weekend_indicator']==1]['mph'],data[data['weekend_indicator']==0]['mph'],equal_var=False)\n",
    "print results"
   ]
  },
  {
   "cell_type": "code",
   "execution_count": 83,
   "metadata": {
    "collapsed": false
   },
   "outputs": [
    {
     "name": "stdout",
     "output_type": "stream",
     "text": [
      "Ttest_indResult(statistic=-20.531325227987388, pvalue=5.8553549486959073e-93)\n"
     ]
    }
   ],
   "source": [
    "#Filter out distances of less than 0.25 miles, and do a one-sided t-test to compare speeds during weekdays and weekends.\n",
    "#These tripes may be loops, so they have speed 0.\n",
    "results2=scipy.stats.ttest_ind(data[(data['weekend_indicator']==1) & (data['distance']<=0.25)]['mph'],data[(data['weekend_indicator']==0) & (data['distance']<=0.25)]['mph'],equal_var=False)\n",
    "print results2"
   ]
  },
  {
   "cell_type": "code",
   "execution_count": 82,
   "metadata": {
    "collapsed": false
   },
   "outputs": [
    {
     "name": "stdout",
     "output_type": "stream",
     "text": [
      "Our null hypothesis is rejected, as our p value of 0.0 is less than our alpha of 0.05.\n"
     ]
    }
   ],
   "source": [
    "def ttest_results(p, alpha):\n",
    "    #divide p by two becuase we are used a one sided t test\n",
    "    p = p/2\n",
    "    if p < alpha:\n",
    "       print('Our null hypothesis is rejected, as our p value of %s is less than our alpha of %s.')%(p,alpha)\n",
    "    else:\n",
    "       print('Our null hypothesis is NOT rejected ( p value of %s is greater than our alpha of %s)')%(p,alpha)\n",
    "       \n",
    "\n",
    "ttest_results(results[1], alpha = 0.05)"
   ]
  },
  {
   "cell_type": "code",
   "execution_count": 68,
   "metadata": {
    "collapsed": false
   },
   "outputs": [
    {
     "name": "stdout",
     "output_type": "stream",
     "text": [
      "                            OLS Regression Results                            \n",
      "==============================================================================\n",
      "Dep. Variable:                    mph   R-squared:                       0.034\n",
      "Model:                            OLS   Adj. R-squared:                  0.034\n",
      "Method:                 Least Squares   F-statistic:                     6028.\n",
      "Date:                Wed, 07 Oct 2015   Prob (F-statistic):               0.00\n",
      "Time:                        12:11:55   Log-Likelihood:            -2.0968e+06\n",
      "No. Observations:              854562   AIC:                         4.194e+06\n",
      "Df Residuals:                  854556   BIC:                         4.194e+06\n",
      "Df Model:                           5                                         \n",
      "Covariance Type:            nonrobust                                         \n",
      "=============================================================================================\n",
      "                                coef    std err          t      P>|t|      [95.0% Conf. Int.]\n",
      "---------------------------------------------------------------------------------------------\n",
      "Intercept                  3.477e+08   3.49e+08      0.995      0.320     -3.37e+08  1.03e+09\n",
      "C(gender)[T.1]                1.1770      0.186      6.325      0.000         0.812     1.542\n",
      "C(gender)[T.2]                0.2509      0.186      1.348      0.178        -0.114     0.616\n",
      "C(usertype)[T.Subscriber] -3.477e+08   3.49e+08     -0.995      0.320     -1.03e+09  3.37e+08\n",
      "weekend_indicator            -0.5678      0.008    -75.188      0.000        -0.583    -0.553\n",
      "birth_year                    0.0257      0.000     95.408      0.000         0.025     0.026\n",
      "==============================================================================\n",
      "Omnibus:                    88898.115   Durbin-Watson:                   1.935\n",
      "Prob(Omnibus):                  0.000   Jarque-Bera (JB):           760746.249\n",
      "Skew:                          -0.086   Prob(JB):                         0.00\n",
      "Kurtosis:                       7.619   Cond. No.                     3.21e+14\n",
      "==============================================================================\n",
      "\n",
      "Warnings:\n",
      "[1] Standard Errors assume that the covariance matrix of the errors is correctly specified.\n",
      "[2] The smallest eigenvalue is 3.25e-17. This might indicate that there are\n",
      "strong multicollinearity problems or that the design matrix is singular.\n"
     ]
    }
   ],
   "source": [
    "# Run regression assuming normal/Gaussian distribution\n",
    "mod = smf.ols(formula='mph ~ weekend_indicator + C(gender) + birth_year + C(usertype)', data = data).fit()\n",
    "print(mod.summary())"
   ]
  },
  {
   "cell_type": "code",
   "execution_count": 75,
   "metadata": {
    "collapsed": true
   },
   "outputs": [],
   "source": [
    "#We get a different t-statistic for weekend_indicator in our OLS regression\n",
    "#because it also evaluates other variables."
   ]
  },
  {
   "cell_type": "code",
   "execution_count": null,
   "metadata": {
    "collapsed": true
   },
   "outputs": [],
   "source": []
  }
 ],
 "metadata": {
  "kernelspec": {
   "display_name": "Python 2",
   "language": "python",
   "name": "python2"
  },
  "language_info": {
   "codemirror_mode": {
    "name": "ipython",
    "version": 2
   },
   "file_extension": ".py",
   "mimetype": "text/x-python",
   "name": "python",
   "nbconvert_exporter": "python",
   "pygments_lexer": "ipython2",
   "version": "2.7.10"
  }
 },
 "nbformat": 4,
 "nbformat_minor": 0
}
